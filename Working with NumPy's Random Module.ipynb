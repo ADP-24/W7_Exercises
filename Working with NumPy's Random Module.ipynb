{
 "cells": [
  {
   "cell_type": "markdown",
   "id": "ccc55bfd-0174-4856-ae97-1224d7c9755a",
   "metadata": {},
   "source": [
    "# Generating Random Numbers (H1)"
   ]
  },
  {
   "cell_type": "code",
   "execution_count": 3,
   "id": "60df819c-97a3-4e21-b4ff-51fccd3d61c4",
   "metadata": {},
   "outputs": [],
   "source": [
    "import numpy as np"
   ]
  },
  {
   "cell_type": "code",
   "execution_count": 4,
   "id": "e141442c-93d0-44d2-85ed-36d5389249e0",
   "metadata": {},
   "outputs": [
    {
     "name": "stdout",
     "output_type": "stream",
     "text": [
      "Random integers (size 2): [12  5]\n"
     ]
    }
   ],
   "source": [
    "r_1 = np.random.randint(1, 20, size=2)\n",
    "print(\"Random integers (size 2):\", r_1)"
   ]
  },
  {
   "cell_type": "code",
   "execution_count": 5,
   "id": "9adf75af-3c2e-47d2-8f18-5461acfe59b8",
   "metadata": {},
   "outputs": [
    {
     "name": "stdout",
     "output_type": "stream",
     "text": [
      "Random integers (1 row, 2 columns):\n",
      "[[ 1 19]]\n"
     ]
    }
   ],
   "source": [
    "r_2 = np.random.randint(1, 20, size=(1, 2))\n",
    "print(\"Random integers (1 row, 2 columns):\")\n",
    "print(r_2)"
   ]
  },
  {
   "cell_type": "code",
   "execution_count": 6,
   "id": "eef93195-a616-4b57-a6ca-3d4e7cf4d345",
   "metadata": {},
   "outputs": [
    {
     "name": "stdout",
     "output_type": "stream",
     "text": [
      "Random floats (2 rows, 1 column):\n",
      "[[0.79880297]\n",
      " [0.24652589]]\n"
     ]
    }
   ],
   "source": [
    "r_3 = np.random.rand(2, 1)\n",
    "print(\"Random floats (2 rows, 1 column):\")\n",
    "print(r_3)"
   ]
  },
  {
   "cell_type": "code",
   "execution_count": 7,
   "id": "0901ef38-3043-434a-afab-5eaf75e7af61",
   "metadata": {},
   "outputs": [
    {
     "name": "stdout",
     "output_type": "stream",
     "text": [
      "Random integers (4 rows, 5 columns):\n",
      "[[22 63 63 50 75]\n",
      " [28 87 67 39 56]\n",
      " [23 86 36 50 25]\n",
      " [36 44 22 54 48]]\n"
     ]
    }
   ],
   "source": [
    "r_4 = np.random.randint(20, 100, size=(4, 5))\n",
    "print(\"Random integers (4 rows, 5 columns):\")\n",
    "print(r_4)"
   ]
  },
  {
   "cell_type": "code",
   "execution_count": 8,
   "id": "b5d4c999-4832-4a25-bdd6-d7496bdfdad0",
   "metadata": {},
   "outputs": [
    {
     "name": "stdout",
     "output_type": "stream",
     "text": [
      "Random integers (4 rows, 5 columns):\n",
      "[[0.61174999 0.36766526 0.46466086 0.63629632 0.51639647]\n",
      " [0.55668732 0.1707279  0.49863681 0.33910267 0.06284702]\n",
      " [0.03800209 0.5948388  0.18671159 0.49898144 0.34589865]\n",
      " [0.69448283 0.41812584 0.5507633  0.22787792 0.26402421]]\n"
     ]
    }
   ],
   "source": [
    "r_5 = np.random.rand(4, 5)\n",
    "print(\"Random integers (4 rows, 5 columns):\")\n",
    "print(r_5)"
   ]
  },
  {
   "cell_type": "markdown",
   "id": "831ce5c3-44ad-466e-ad89-58a56c35d9ea",
   "metadata": {},
   "source": [
    "# Generating Random Choices from an Array"
   ]
  },
  {
   "cell_type": "code",
   "execution_count": 27,
   "id": "9691278f-7f3c-425f-96a5-370c77cbf3d8",
   "metadata": {},
   "outputs": [
    {
     "name": "stdout",
     "output_type": "stream",
     "text": [
      "Students: ['Jordan' 'Vanessa' 'Craig' 'Rodolfo' 'Jaela' 'Mohammad' 'Zainab' 'Jen'\n",
      " 'Hassan' 'Symone' 'Martin' 'Caitlan']\n"
     ]
    }
   ],
   "source": [
    "students = np.array(['Jordan', 'Vanessa', 'Craig', 'Rodolfo', 'Jaela', 'Mohammad', 'Zainab', 'Jen', 'Hassan',\n",
    "                     'Symone','Martin','Caitlan'])\n",
    "print(\"Students:\", students)"
   ]
  },
  {
   "cell_type": "code",
   "execution_count": 21,
   "id": "bd92eb27-44a9-495a-9ea3-0240d9ae9880",
   "metadata": {},
   "outputs": [
    {
     "name": "stdout",
     "output_type": "stream",
     "text": [
      "Randomly selected student: Vanessa\n"
     ]
    }
   ],
   "source": [
    "call_on = np.random.choice(students)\n",
    "print(\"Randomly selected student:\", call_on)"
   ]
  },
  {
   "cell_type": "code",
   "execution_count": 26,
   "id": "00b2a5fa-2d7c-41ac-9100-f62722781b45",
   "metadata": {},
   "outputs": [
    {
     "name": "stdout",
     "output_type": "stream",
     "text": [
      "Random breakout groups (3 rows, 4 columns):\n",
      "[['Symone' 'Rodolfo' 'Jordan' 'Zainab']\n",
      " ['Vanessa' 'Jen' 'Mohammad' 'Caitlan']\n",
      " ['Hassan' 'Martin' 'Armando' 'Craig']]\n"
     ]
    }
   ],
   "source": [
    "breakout_groups = np.random.choice(students, size=(3, 4), replace=False)\n",
    "print(\"Random breakout groups (3 rows, 4 columns):\")\n",
    "print(breakout_groups)\n",
    "\n",
    "# This method can be an effective way to create random groups, that provides that there is no overlap if 'replace=false'"
   ]
  },
  {
   "cell_type": "code",
   "execution_count": null,
   "id": "2d80e88f-ae6c-4cf1-82f5-87244da554e8",
   "metadata": {},
   "outputs": [],
   "source": [
    "students = np.array(['Jordan','Vanessa','Craig','Rodolfo','Jaela','Mohammad','Zainab','Jen','Hassan','Symone','Martin','Caitlan'])"
   ]
  },
  {
   "cell_type": "code",
   "execution_count": 28,
   "id": "0bf0f4ce-355a-4618-ae90-d3792dd7ade7",
   "metadata": {},
   "outputs": [],
   "source": [
    "probabilities = [0.05, 0.06, 0.02, 0.05, 0.07, 0.1, 0.08, 0.3, 0.07, 0.11, 0.09, 0.00]"
   ]
  },
  {
   "cell_type": "code",
   "execution_count": 29,
   "id": "7485e18e-fc1e-4c1b-bfcc-a5f5f8ccefef",
   "metadata": {},
   "outputs": [
    {
     "name": "stdout",
     "output_type": "stream",
     "text": [
      "Randomly selected students with weighted probabilities: ['Jen' 'Vanessa' 'Hassan' 'Rodolfo' 'Jen']\n"
     ]
    }
   ],
   "source": [
    "call_on_weighted = np.random.choice(students, size=5, p=probabilities, replace=True)\n",
    "print(\"Randomly selected students with weighted probabilities:\", call_on_weighted)"
   ]
  },
  {
   "cell_type": "markdown",
   "id": "8215ef90-16af-4188-bb6f-ec21c46e9a33",
   "metadata": {},
   "source": [
    "# Generating a Normal Distribution"
   ]
  },
  {
   "cell_type": "code",
   "execution_count": 30,
   "id": "32568c36-6115-4076-9f39-7fa6ea6c6692",
   "metadata": {},
   "outputs": [
    {
     "name": "stdout",
     "output_type": "stream",
     "text": [
      "Bell curve with mean 10, standard deviation 5:\n",
      "[[ 9.20259356  2.14907993  4.6536831   6.02025633  9.34637583]\n",
      " [13.44003184 12.95850874 12.85057745  5.40720654  8.55422938]\n",
      " [19.58364526  6.98553667 13.27102159  6.15411737  3.49119546]\n",
      " [ 9.77982967 15.71352472 -0.99145229 10.50780356  2.96681246]]\n"
     ]
    }
   ],
   "source": [
    "bell_curve = np.random.normal(loc=10, scale=5, size=(4, 5))\n",
    "print(\"Bell curve with mean 10, standard deviation 5:\")\n",
    "print(bell_curve)"
   ]
  },
  {
   "cell_type": "code",
   "execution_count": null,
   "id": "214f9e81-a94f-4520-a325-e631b5ef1bae",
   "metadata": {},
   "outputs": [],
   "source": []
  }
 ],
 "metadata": {
  "kernelspec": {
   "display_name": "Python 3 (ipykernel)",
   "language": "python",
   "name": "python3"
  },
  "language_info": {
   "codemirror_mode": {
    "name": "ipython",
    "version": 3
   },
   "file_extension": ".py",
   "mimetype": "text/x-python",
   "name": "python",
   "nbconvert_exporter": "python",
   "pygments_lexer": "ipython3",
   "version": "3.12.3"
  }
 },
 "nbformat": 4,
 "nbformat_minor": 5
}
