{
 "cells": [
  {
   "cell_type": "markdown",
   "id": "fad628f6-5c1e-4b27-88ce-af72d0c61242",
   "metadata": {},
   "source": [
    "# Manipulating NymPy Arrays (H1)"
   ]
  },
  {
   "cell_type": "code",
   "execution_count": 1,
   "id": "2e6ccac4-ab8f-48dc-9f55-bc4594d233d4",
   "metadata": {},
   "outputs": [],
   "source": [
    "import numpy as np"
   ]
  },
  {
   "cell_type": "code",
   "execution_count": 2,
   "id": "d4730904-1354-4b5e-b485-024e69d6f121",
   "metadata": {},
   "outputs": [
    {
     "name": "stdout",
     "output_type": "stream",
     "text": [
      "[[11 12 13]\n",
      " [14 15 16]]\n"
     ]
    }
   ],
   "source": [
    "arrA = np.array([[11, 12, 13], [14, 15, 16]])\n",
    "print(arrA)"
   ]
  },
  {
   "cell_type": "code",
   "execution_count": 3,
   "id": "342606f8-6bdc-40d1-9c4e-85b572751647",
   "metadata": {},
   "outputs": [
    {
     "name": "stdout",
     "output_type": "stream",
     "text": [
      "[22 24 26]\n",
      "[28 30 32]\n"
     ]
    }
   ],
   "source": [
    "for x in arrA:\n",
    "    print(x * 2)"
   ]
  },
  {
   "cell_type": "code",
   "execution_count": 4,
   "id": "5214cc57-a615-4faa-8ca9-b31025cf51a3",
   "metadata": {},
   "outputs": [
    {
     "name": "stdout",
     "output_type": "stream",
     "text": [
      "22\n",
      "24\n",
      "26\n",
      "28\n",
      "30\n",
      "32\n"
     ]
    }
   ],
   "source": [
    "for x in arrA:\n",
    "    for y in x:\n",
    "        print(y * 2)"
   ]
  },
  {
   "cell_type": "code",
   "execution_count": null,
   "id": "1bf4acf3-9c6b-46bc-be1e-20093b1d81db",
   "metadata": {},
   "outputs": [],
   "source": [
    "# The difference between the results of the first loop and the second loop is that:\n",
    "# - The first loop iterates over each row (first dimension) in 'arrA' and multiplies\n",
    "# the entire row (as an array) by 2, resulting in an array of multiplied values for each row.\n",
    "# - The second loop goes through each individual element within each row (second dimension) and\n",
    "# multiplies each one separately by 2, printing them one by one."
   ]
  },
  {
   "cell_type": "code",
   "execution_count": 5,
   "id": "7afa7028-49b5-41cd-9a9b-a2a11acef19c",
   "metadata": {},
   "outputs": [
    {
     "name": "stdout",
     "output_type": "stream",
     "text": [
      "[array([22, 24, 26]), array([28, 30, 32])]\n"
     ]
    }
   ],
   "source": [
    "loop_result = []\n",
    "for x in arrA:\n",
    "    loop_result.append(x * 2)\n",
    "\n",
    "print(loop_result)\n",
    "\n",
    "#Here, the results is stored in 'Loop_results', which contains each row of 'arrA' multiplied by 2.\n",
    "# The previous loops, this code does not print each element individually, but stores the entire modified\n",
    "# rows as new arrays within 'loop_results'"
   ]
  },
  {
   "cell_type": "markdown",
   "id": "f070e7c3-7e07-4b21-a936-d2bd04ab154d",
   "metadata": {},
   "source": [
    "# Joining and StackingArrays (H2)"
   ]
  },
  {
   "cell_type": "code",
   "execution_count": 7,
   "id": "25434f7f-56b4-49f2-bed3-ce25a68aa423",
   "metadata": {},
   "outputs": [
    {
     "name": "stdout",
     "output_type": "stream",
     "text": [
      "[[11 12 13]\n",
      " [14 15 16]\n",
      " [11 12 13]\n",
      " [14 15 16]]\n"
     ]
    }
   ],
   "source": [
    "joined_array_1 = np.concatenate((arrA, arrA), axis = 0)\n",
    "print(joined_array_1)"
   ]
  },
  {
   "cell_type": "code",
   "execution_count": 8,
   "id": "42a439d9-0e16-4765-b955-8d65943e4260",
   "metadata": {},
   "outputs": [
    {
     "name": "stdout",
     "output_type": "stream",
     "text": [
      "[[11 12 13 11 12 13]\n",
      " [14 15 16 14 15 16]]\n"
     ]
    }
   ],
   "source": [
    "joined_array_2 = np.concatenate((arrA, arrA), axis=1)\n",
    "print(joined_array_2)"
   ]
  },
  {
   "cell_type": "code",
   "execution_count": 10,
   "id": "22d8f914-d043-47ea-870c-04db423f33c6",
   "metadata": {},
   "outputs": [
    {
     "name": "stdout",
     "output_type": "stream",
     "text": [
      "[[[11 12 13]\n",
      "  [14 15 16]\n",
      "  [11 12 13]\n",
      "  [14 15 16]]\n",
      "\n",
      " [[11 12 13]\n",
      "  [14 15 16]\n",
      "  [11 12 13]\n",
      "  [14 15 16]]]\n"
     ]
    }
   ],
   "source": [
    "stacked_array_1 = np.stack((joined_array_1, joined_array_1))\n",
    "print(stacked_array_1)"
   ]
  },
  {
   "cell_type": "code",
   "execution_count": 12,
   "id": "12141eb1-927d-486d-b229-0b1d25694984",
   "metadata": {},
   "outputs": [
    {
     "name": "stdout",
     "output_type": "stream",
     "text": [
      "Error: all input arrays must have the same shape\n"
     ]
    }
   ],
   "source": [
    "try:\n",
    "    stacked_array_2 = np.stack((joined_array_1, joined_array_2))\n",
    "    print(stacked_array_2)\n",
    "except ValueError as e:\n",
    "    print(\"Error:\", e)\n",
    "\n",
    "# The error occurs because 'joined_array_1' and 'joined_array_2' are different in shape\n",
    "# which makes them incompatible for stacking. Stacking requires arrays to have the same shape."
   ]
  },
  {
   "cell_type": "code",
   "execution_count": 13,
   "id": "aee60f05-95bd-4431-a5e1-d2eba961c120",
   "metadata": {},
   "outputs": [
    {
     "name": "stdout",
     "output_type": "stream",
     "text": [
      "[[11 12 13]\n",
      " [14 15 16]\n",
      " [11 12 13]\n",
      " [14 15 16]\n",
      " [11 12 13]\n",
      " [14 15 16]]\n"
     ]
    }
   ],
   "source": [
    "another_joined_array = np.concatenate((joined_array_1, arrA), axis=0)\n",
    "print(another_joined_array)"
   ]
  },
  {
   "cell_type": "code",
   "execution_count": 14,
   "id": "51f4f870-3218-4246-a9c9-75553aeb9526",
   "metadata": {},
   "outputs": [
    {
     "name": "stdout",
     "output_type": "stream",
     "text": [
      "Error: all the input array dimensions except for the concatenation axis must match exactly, but along dimension 0, the array at index 0 has size 4 and the array at index 1 has size 2\n"
     ]
    }
   ],
   "source": [
    "try:\n",
    "    another_2 = np.concatenate((joined_array_1, arrA), axis=1)\n",
    "    print(another_2)\n",
    "except ValueError as e:\n",
    "    print(\"Error:\", e)\n",
    "\n",
    "# The error occurs because of the shapes of 'joined_array_1' and arrA' along axis=1 do align with each other,\n",
    "# making them incompatible for concatentation along this axis"
   ]
  },
  {
   "cell_type": "code",
   "execution_count": 17,
   "id": "707fe560-20bb-453c-9779-a5b99997ff3d",
   "metadata": {},
   "outputs": [
    {
     "name": "stdout",
     "output_type": "stream",
     "text": [
      "[[11 12 13 11 12 13]\n",
      " [14 15 16 14 15 16]]\n"
     ]
    }
   ],
   "source": [
    "hstack_results = np.hstack((arrA, arrA))\n",
    "print(hstack_results)\n",
    "\n",
    "# 'hstack' stacks arrays horizontally (along axis=1), joining columns side by side."
   ]
  },
  {
   "cell_type": "code",
   "execution_count": 18,
   "id": "8b844c4a-3083-4b3d-aa7b-6cbd0b57d391",
   "metadata": {},
   "outputs": [
    {
     "name": "stdout",
     "output_type": "stream",
     "text": [
      "[[11 12 13]\n",
      " [14 15 16]\n",
      " [11 12 13]\n",
      " [14 15 16]]\n"
     ]
    }
   ],
   "source": [
    "vstack_result = np.vstack((arrA, arrA))\n",
    "print(vstack_result)\n",
    "\n",
    "# 'vstack' stacks arrays vertically, joining rows on below the other"
   ]
  },
  {
   "cell_type": "code",
   "execution_count": 19,
   "id": "9e3a4042-757d-4bdd-907e-d9ff68a9f0d2",
   "metadata": {},
   "outputs": [
    {
     "name": "stdout",
     "output_type": "stream",
     "text": [
      "[[[11 11]\n",
      "  [12 12]\n",
      "  [13 13]]\n",
      "\n",
      " [[14 14]\n",
      "  [15 15]\n",
      "  [16 16]]]\n"
     ]
    }
   ],
   "source": [
    "dstack_result = np.dstack((arrA, arrA))\n",
    "print(dstack_result)\n",
    "\n",
    "# 'dstack' stacks arrays along a depth dimension (asxis=2), that produces a 3D array."
   ]
  },
  {
   "cell_type": "markdown",
   "id": "e4fa404b-a1b4-47e8-939b-bb4c7409e369",
   "metadata": {},
   "source": [
    "# Splitting Arrays (H2)"
   ]
  },
  {
   "cell_type": "code",
   "execution_count": 21,
   "id": "b849b920-2c68-4c77-b24d-4ef0ad1674f4",
   "metadata": {},
   "outputs": [
    {
     "name": "stdout",
     "output_type": "stream",
     "text": [
      "[array([[11, 12, 13],\n",
      "       [14, 15, 16]]), array([[11, 12, 13],\n",
      "       [14, 15, 16]])]\n"
     ]
    }
   ],
   "source": [
    "splitsky = np.array_split(joined_array_1, 2)\n",
    "print(splitsky)\n",
    "\n",
    "# list containing 2 arrays, each with 2 dimensions"
   ]
  },
  {
   "cell_type": "code",
   "execution_count": 22,
   "id": "dc2dfa4f-643c-464e-b293-c5042b54427b",
   "metadata": {},
   "outputs": [
    {
     "name": "stdout",
     "output_type": "stream",
     "text": [
      "[array([[11, 12, 13],\n",
      "       [14, 15, 16]]), array([[11, 12, 13]]), array([[14, 15, 16]])]\n"
     ]
    }
   ],
   "source": [
    "spliterino = np.array_split(joined_array_1, 3)\n",
    "print(spliterino)\n",
    "\n",
    "# List containing 3 arrays each with 2 dimensions"
   ]
  },
  {
   "cell_type": "markdown",
   "id": "d411b2d4-d2c8-4a82-83d2-daa614cb64b9",
   "metadata": {},
   "source": [
    "# Searching and Replacing Arrays Values (H2)"
   ]
  },
  {
   "cell_type": "code",
   "execution_count": 23,
   "id": "4cd17800-61e3-494f-ae3a-10bd0fbe5047",
   "metadata": {},
   "outputs": [
    {
     "name": "stdout",
     "output_type": "stream",
     "text": [
      "[['odd' '12' 'odd']\n",
      " ['14' 'odd' '16']]\n"
     ]
    }
   ],
   "source": [
    "result_1 = np.where(arrA % 2 == 0, arrA, 'odd')\n",
    "print(result_1)\n",
    "\n",
    "# This code uses 'np.where' to check each element in 'arrA' to see if it is even. If the element is even it retains its value,\n",
    "# and if the element is odd, it is changed to 'odd'"
   ]
  },
  {
   "cell_type": "markdown",
   "id": "e520eda9-ac6d-4594-80e5-bc6cd875fde7",
   "metadata": {},
   "source": [
    "# Sorting and Filtering Arrays (H2)"
   ]
  },
  {
   "cell_type": "code",
   "execution_count": 24,
   "id": "83be49f2-4ae4-442a-b7ca-5d9e35605a50",
   "metadata": {},
   "outputs": [],
   "source": [
    "arrB = np.array([[7, 6], [13, 5], [7,3]])"
   ]
  },
  {
   "cell_type": "code",
   "execution_count": 25,
   "id": "2fd40ee9-d95b-4e8a-b544-f65bb7b2728b",
   "metadata": {},
   "outputs": [
    {
     "name": "stdout",
     "output_type": "stream",
     "text": [
      "Sorted arrB:\n",
      "[[ 6  7]\n",
      " [ 5 13]\n",
      " [ 3  7]]\n"
     ]
    }
   ],
   "source": [
    "arrB_sorted = np.sort(arrB)\n",
    "print(\"Sorted arrB:\")\n",
    "print(arrB_sorted)"
   ]
  },
  {
   "cell_type": "code",
   "execution_count": 26,
   "id": "ed763f43-075b-449a-9310-44b66503bc57",
   "metadata": {},
   "outputs": [
    {
     "name": "stdout",
     "output_type": "stream",
     "text": [
      "Original arrB:\n",
      "[[ 7  6]\n",
      " [13  5]\n",
      " [ 7  3]]\n"
     ]
    }
   ],
   "source": [
    "print(\"Original arrB:\")\n",
    "print(arrB)"
   ]
  },
  {
   "cell_type": "code",
   "execution_count": 27,
   "id": "19123ac0-d0ed-4366-97ce-e513c4cdcca3",
   "metadata": {},
   "outputs": [],
   "source": [
    "z = arrB < 7"
   ]
  },
  {
   "cell_type": "code",
   "execution_count": 28,
   "id": "eef99756-7311-4221-bdc9-3a26ab3e8521",
   "metadata": {},
   "outputs": [
    {
     "name": "stdout",
     "output_type": "stream",
     "text": [
      "Values in arrB less than 7:\n",
      "[6 5 3]\n"
     ]
    }
   ],
   "source": [
    "arrC = arrB[z]\n",
    "print(\"Values in arrB less than 7:\")\n",
    "print(arrC)"
   ]
  },
  {
   "cell_type": "code",
   "execution_count": 29,
   "id": "5ddd8b68-a974-4118-bf6e-6c547e6af6d0",
   "metadata": {},
   "outputs": [
    {
     "name": "stdout",
     "output_type": "stream",
     "text": [
      "Values in arrB greater than or equal to 7:\n",
      "[ 7 13  7]\n"
     ]
    }
   ],
   "source": [
    "y = arrB >= 7\n",
    "arrD = arrB[y]\n",
    "print(\"Values in arrB greater than or equal to 7:\")\n",
    "print(arrD)"
   ]
  },
  {
   "cell_type": "code",
   "execution_count": null,
   "id": "b2de9167-e185-49e6-a029-451211c8a34b",
   "metadata": {},
   "outputs": [],
   "source": []
  }
 ],
 "metadata": {
  "kernelspec": {
   "display_name": "Python 3 (ipykernel)",
   "language": "python",
   "name": "python3"
  },
  "language_info": {
   "codemirror_mode": {
    "name": "ipython",
    "version": 3
   },
   "file_extension": ".py",
   "mimetype": "text/x-python",
   "name": "python",
   "nbconvert_exporter": "python",
   "pygments_lexer": "ipython3",
   "version": "3.12.3"
  }
 },
 "nbformat": 4,
 "nbformat_minor": 5
}
